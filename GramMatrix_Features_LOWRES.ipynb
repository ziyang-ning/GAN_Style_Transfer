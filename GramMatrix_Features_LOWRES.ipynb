{
 "cells": [
  {
   "cell_type": "markdown",
   "id": "c1ed5c4a",
   "metadata": {},
   "source": [
    "### Getting Low-Res Gram Matrix from a image"
   ]
  },
  {
   "cell_type": "markdown",
   "id": "5cb1d516",
   "metadata": {},
   "source": [
    "## All the libraries + CNN model"
   ]
  },
  {
   "cell_type": "code",
   "execution_count": 14,
   "id": "c1ef4456",
   "metadata": {},
   "outputs": [
    {
     "name": "stdout",
     "output_type": "stream",
     "text": [
      "Requirement already satisfied: torchsummary in /Users/ziyangning/opt/anaconda3/lib/python3.8/site-packages (1.5.1)\n",
      "PyTorch Version:  2.0.0\n",
      "Torchvision Version:  0.15.0\n",
      "WARNING: Could not find GPU! Using CPU only. If you want to enable GPU, please to go Edit > Notebook Settings > Hardware Accelerator and select GPU.\n"
     ]
    }
   ],
   "source": [
    "!pip install torchsummary\n",
    "import pickle\n",
    "import numpy as np\n",
    "import matplotlib.pyplot as plt\n",
    "import os\n",
    "import time\n",
    "import itertools\n",
    "from matplotlib import image\n",
    "import glob as glob\n",
    "from PIL import Image\n",
    "from skimage.transform import resize\n",
    "\n",
    "import torch\n",
    "import torchvision\n",
    "from torchvision import datasets, models, transforms\n",
    "import torch.nn as nn\n",
    "import torch.optim as optim\n",
    "from torch.autograd import Variable\n",
    "import torch.nn.functional as F\n",
    "from torch.utils.data import DataLoader, Dataset\n",
    "from torchsummary import summary\n",
    "\n",
    "print(\"PyTorch Version: \",torch.__version__)\n",
    "print(\"Torchvision Version: \",torchvision.__version__)\n",
    "# Detect if we have a GPU available\n",
    "device = torch.device(\"cuda:0\" if torch.cuda.is_available() else \"cpu\")\n",
    "if torch.cuda.is_available():\n",
    "  print(\"Using the GPU!\")\n",
    "else:\n",
    "  print(\"WARNING: Could not find GPU! Using CPU only. If you want to enable GPU, please to go Edit > Notebook Settings > Hardware Accelerator and select GPU.\")\n",
    "\n",
    "\n",
    "# Download the model\n",
    "cnn = torchvision.models.squeezenet1_1(pretrained=True).features\n",
    "cnn = cnn.to(device)\n",
    "\n",
    "# Freeze the parameters as there's no need to train the net. Ignore the warnings.\n",
    "for param in cnn.parameters():\n",
    "    param.requires_grad = False"
   ]
  },
  {
   "cell_type": "markdown",
   "id": "d34fc48c",
   "metadata": {},
   "source": [
    "## Image Loader (from the starter code)\n",
    "You can also use your own image loader, that's probably easier"
   ]
  },
  {
   "cell_type": "code",
   "execution_count": 15,
   "id": "dd213d83",
   "metadata": {},
   "outputs": [],
   "source": [
    "# Dataloader\n",
    "imsize = 512\n",
    "\n",
    "SQUEEZENET_MEAN = torch.tensor([0.485, 0.456, 0.406], dtype=torch.float)\n",
    "SQUEEZENET_STD = torch.tensor([0.229, 0.224, 0.225], dtype=torch.float)\n",
    "\n",
    "\n",
    "def image_loader(image_name, imsize):\n",
    "    image = Image.open(image_name)\n",
    "    transform = transforms.Compose([\n",
    "                transforms.Resize(imsize),\n",
    "                transforms.ToTensor(),\n",
    "                transforms.Normalize(mean=SQUEEZENET_MEAN.tolist(), std=SQUEEZENET_STD.tolist()),\n",
    "                transforms.Lambda(lambda x: x[None]),\n",
    "                ])\n",
    "    image = transform(image)\n",
    "    return image.to(device, torch.float)\n",
    "\n",
    "# visualizing the content and style images\n",
    "\n",
    "# Commented Out to load Artbench Style instead\n",
    "# style_img = image_loader(\"styles/muse.jpg\", imsize)\n",
    "# content_img = image_loader(\"contents/000000211825.jpg\", imsize)\n",
    "style_img = image_loader(\"artbench_styles/expressionism/antonietta-raphael_caltagirone-all-alba-1951.jpg\", imsize)\n",
    "content_img = image_loader(\"artbench_styles/art_nouveau/a-y-jackson_grey-day-laurentians-1928.jpg\", imsize)\n",
    "\n",
    "def deprocess(img):\n",
    "    transform = transforms.Compose(\n",
    "        [\n",
    "            transforms.Lambda(lambda x: x[0]),\n",
    "            transforms.Normalize(mean=[0, 0, 0], std=(1.0 / SQUEEZENET_STD).tolist()),\n",
    "            transforms.Normalize(mean=(-SQUEEZENET_MEAN).tolist(), std=[1, 1, 1]),\n",
    "            transforms.Lambda(lambda x: x),\n",
    "            transforms.ToPILImage(),\n",
    "        ]\n",
    "    )\n",
    "    return transform(img)\n",
    "\n",
    "plt.ion()\n",
    "\n",
    "def imshow(im_tensor, title=None):\n",
    "    image = im_tensor.cpu().clone()    \n",
    "    image = deprocess(image)\n",
    "    plt.imshow(image)\n",
    "    if title is not None:\n",
    "        plt.title(title)\n",
    "    plt.pause(0.001)"
   ]
  },
  {
   "cell_type": "markdown",
   "id": "5c20577f",
   "metadata": {},
   "source": [
    "## Get Feature Map"
   ]
  },
  {
   "cell_type": "code",
   "execution_count": 16,
   "id": "fe5c2706",
   "metadata": {},
   "outputs": [],
   "source": [
    "def get_feature_maps(x, cnn):\n",
    "    \"\"\"\n",
    "    Get the list of feature maps in a forward pass.\n",
    "    \n",
    "    Inputs:\n",
    "    - x: A batch of images with shape (B, C, H, W)\n",
    "    - cnn: A PyTorch model that we will use to extract features.\n",
    "    \n",
    "    Returns:\n",
    "    - features: A list of features for the input images x extracted using the cnn model.\n",
    "      features[i] is a Tensor of shape (B, C_i, H_i, W_i).\n",
    "    \"\"\"\n",
    "    feats = []\n",
    "    in_feat = x\n",
    "    for layer in cnn._modules.values():\n",
    "        out_feat = layer(in_feat)\n",
    "        feats.append(out_feat)\n",
    "        in_feat = out_feat\n",
    "    return feats"
   ]
  },
  {
   "cell_type": "markdown",
   "id": "6595c3f8",
   "metadata": {},
   "source": [
    "## Gram Matrix"
   ]
  },
  {
   "cell_type": "code",
   "execution_count": 17,
   "id": "99c99996",
   "metadata": {},
   "outputs": [],
   "source": [
    "def gram_matrix(feat, normalize = True):\n",
    "    \"\"\"\n",
    "    Compute the gram matrix.\n",
    "    \n",
    "    Inputs:\n",
    "    - feat: a feature tensor of shape (1, C, H, W).\n",
    "    - normalize: if normalize is true, divide the gram matrix by C*H*W:\n",
    "    Returns\n",
    "    - gram: the gram matrix\n",
    "    \"\"\"\n",
    "\n",
    "    gram = None\n",
    "\n",
    "    ###########################################################################\n",
    "    # TODO: Implement the gram matrix. You should not use a loop or           #\n",
    "    # comprehension                                                           #\n",
    "    ###########################################################################\n",
    "    \n",
    "    #gram = torch.einsum('kij,lij->kl',feat,feat) #the gram matrix implementation\n",
    "    #Do I need to do to C,H,W here? or that's only for normalize\n",
    "    #What happens to the 1 in the shape in the front?\n",
    "    # or we can try flatten feat, then do matrix multiplication with transpose\n",
    "    \n",
    "    N, C, H, W = feat.size()\n",
    "    feat = feat.view(feat.size(1), -1)\n",
    "    gram = torch.mm(feat, feat.t())\n",
    "    \n",
    "    if(normalize):\n",
    "        #normalize if true\n",
    "        gram = gram / (C*H*W)\n",
    "    \n",
    "    pass\n",
    "\n",
    "    ###########################################################################\n",
    "    #                              END OF YOUR CODE                           #\n",
    "    ###########################################################################\n",
    "\n",
    "    return gram"
   ]
  },
  {
   "cell_type": "markdown",
   "id": "ace85b91",
   "metadata": {},
   "source": [
    "## Plotting Low-Res Gram matrix (16 * 16)\n",
    "They are also turned into a numpy array"
   ]
  },
  {
   "cell_type": "code",
   "execution_count": 18,
   "id": "815bfea9",
   "metadata": {},
   "outputs": [
    {
     "data": {
      "image/png": "[encoded data removed]",
      "text/plain": [
       "<Figure size 432x288 with 1 Axes>"
      ]
     },
     "metadata": {
      "needs_background": "light"
     },
     "output_type": "display_data"
    },
    {
     "data": {
      "image/png": "[encoded data removed]",
      "text/plain": [
       "<Figure size 432x288 with 1 Axes>"
      ]
     },
     "metadata": {
      "needs_background": "light"
     },
     "output_type": "display_data"
    },
    {
     "data": {
      "image/png": "[encoded data removed]",
      "text/plain": [
       "<Figure size 432x288 with 1 Axes>"
      ]
     },
     "metadata": {
      "needs_background": "light"
     },
     "output_type": "display_data"
    },
    {
     "data": {
      "image/png": "[encoded data removed]",
      "text/plain": [
       "<Figure size 432x288 with 1 Axes>"
      ]
     },
     "metadata": {
      "needs_background": "light"
     },
     "output_type": "display_data"
    },
    {
     "data": {
      "text/plain": [
       "<Figure size 432x288 with 0 Axes>"
      ]
     },
     "metadata": {},
     "output_type": "display_data"
    }
   ],
   "source": [
    "    ######TODO::: Replace directory to the artbench directory\n",
    "    ## Also change size to 256, the size of image in the dataset\n",
    "    ## you can also change to your own image loader\n",
    "    style_img = image_loader('artbench_styles/others/starry_night.jpg', 512)\n",
    "    \n",
    "    #this step gets the features and style targets\n",
    "    feats = get_feature_maps(style_img, cnn)\n",
    "    style_targets = []\n",
    "    for idx in [1,4,6,7]:\n",
    "         style_targets.append(gram_matrix(feats[idx].clone()))\n",
    "\n",
    "    # this step loops through the 4 element in the array and resize them to 16*16\n",
    "    for i in range (0,4):\n",
    "        array = style_targets[i].numpy()\n",
    "#         plt.imshow(array)\n",
    "#         plt.figure()\n",
    "        array_lowres = resize(array, (16, 16),\n",
    "                          anti_aliasing=True)\n",
    "        plt.imshow(array_lowres)\n",
    "        plt.figure()"
   ]
  },
  {
   "cell_type": "code",
   "execution_count": null,
   "id": "b4e37609",
   "metadata": {},
   "outputs": [],
   "source": []
  }
 ],
 "metadata": {
  "kernelspec": {
   "display_name": "Python 3",
   "language": "python",
   "name": "python3"
  },
  "language_info": {
   "codemirror_mode": {
    "name": "ipython",
    "version": 3
   },
   "file_extension": ".py",
   "mimetype": "text/x-python",
   "name": "python",
   "nbconvert_exporter": "python",
   "pygments_lexer": "ipython3",
   "version": "3.8.8"
  }
 },
 "nbformat": 4,
 "nbformat_minor": 5
}
